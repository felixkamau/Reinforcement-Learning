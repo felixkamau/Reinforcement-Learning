{
  "nbformat": 4,
  "nbformat_minor": 0,
  "metadata": {
    "colab": {
      "provenance": [],
      "authorship_tag": "ABX9TyMyoihynwGrZsCudAjzkliP",
      "include_colab_link": true
    },
    "kernelspec": {
      "name": "python3",
      "display_name": "Python 3"
    },
    "language_info": {
      "name": "python"
    }
  },
  "cells": [
    {
      "cell_type": "markdown",
      "metadata": {
        "id": "view-in-github",
        "colab_type": "text"
      },
      "source": [
        "<a href=\"https://colab.research.google.com/github/felixkamau/Reinforcement-Learning/blob/main/reinforcement_learning.ipynb\" target=\"_parent\"><img src=\"https://colab.research.google.com/assets/colab-badge.svg\" alt=\"Open In Colab\"/></a>"
      ]
    },
    {
      "cell_type": "markdown",
      "source": [
        "# **Reinforcement Learning** \n"
      ],
      "metadata": {
        "id": "bRHhdCyja1OC"
      }
    },
    {
      "cell_type": "code",
      "source": [],
      "metadata": {
        "id": "Krv4kZvNl9sc"
      },
      "execution_count": null,
      "outputs": []
    }
  ]
}